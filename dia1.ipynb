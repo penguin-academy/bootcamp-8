{
 "cells": [
  {
   "cell_type": "markdown",
   "metadata": {},
   "source": [
    "# Introducción a Python"
   ]
  },
  {
   "cell_type": "code",
   "execution_count": 2,
   "metadata": {},
   "outputs": [
    {
     "name": "stdout",
     "output_type": "stream",
     "text": [
      "hola mundo\n"
     ]
    }
   ],
   "source": [
    "print(\"hola mundo\")"
   ]
  },
  {
   "cell_type": "markdown",
   "metadata": {},
   "source": [
    "# Variables"
   ]
  },
  {
   "cell_type": "code",
   "execution_count": 21,
   "metadata": {},
   "outputs": [
    {
     "name": "stdout",
     "output_type": "stream",
     "text": [
      "20\n",
      "30\n",
      "20\n"
     ]
    }
   ],
   "source": [
    "asdlkjaklsd = 20\n",
    "print(asdlkjaklsd)\n",
    "numero1 = 30\n",
    "print(numero1)\n",
    "cantidad_de_juguetes = 100\n",
    "print(asdlkjaklsd)"
   ]
  },
  {
   "cell_type": "markdown",
   "metadata": {},
   "source": [
    "## Ejemplo con \"hola mundo\""
   ]
  },
  {
   "cell_type": "code",
   "execution_count": 11,
   "metadata": {},
   "outputs": [
    {
     "name": "stdout",
     "output_type": "stream",
     "text": [
      "hola mundo\n"
     ]
    }
   ],
   "source": [
    "saludo = \"hola mundo\"\n",
    "print(saludo)"
   ]
  },
  {
   "cell_type": "markdown",
   "metadata": {},
   "source": [
    "## Tipos de datos"
   ]
  },
  {
   "cell_type": "code",
   "execution_count": 23,
   "metadata": {},
   "outputs": [
    {
     "name": "stdout",
     "output_type": "stream",
     "text": [
      "maitei\n",
      "20\n",
      "3.14\n",
      "24\n",
      "0\n",
      "36\n",
      "5.5\n",
      "9.0\n",
      "130\n"
     ]
    }
   ],
   "source": [
    "saludo = 'maitei' # Texto -> strings -> str\n",
    "cantidad = 20 # Número entero -> int (integer)\n",
    "pi = 3.14 # Número decimal -> floating numbers -> float\n",
    "print(saludo)\n",
    "print(cantidad)\n",
    "print(pi)\n",
    "\n",
    "# Operaciones aritméticas\n",
    "# Suma\n",
    "print(7 + 8 + 9)\n",
    "\n",
    "# Resta\n",
    "print(10 - 10)\n",
    "\n",
    "# Multiplicación\n",
    "print(12 * 3)\n",
    "\n",
    "# División\n",
    "print(11 / 2)\n",
    "\n",
    "# Python obedece a la regla matemática de la precedencia de operadores\n",
    "print(2 * 2 + 12 / 2 - 1)\n",
    "\n",
    "multiplicacion = cantidad_de_juguetes + numero1\n",
    "print(multiplicacion)"
   ]
  },
  {
   "cell_type": "markdown",
   "metadata": {},
   "source": [
    "---"
   ]
  },
  {
   "cell_type": "markdown",
   "metadata": {},
   "source": [
    "## Challenge 🤺\n",
    "\n",
    "1. Suma: asignar dos números en dos variables diferentes `cantidad_de_manzanas` y `cantidad_de_naranjas`. Luego sumar ambas variables en `cantidad_de_frutas`. Imprimir la última variable.\n",
    "\n",
    "2. Resta: asignar un valor numérico a la variable `frutas_comidas`. Luego, asignar la resta entre `cantidad_de_frutas` y `frutas_comidas` a la variable `frutas_restantes`. Imprimir la última variable."
   ]
  },
  {
   "cell_type": "code",
   "execution_count": 30,
   "metadata": {},
   "outputs": [],
   "source": [
    "# Solución de Joselo\n",
    "\n",
    "cantidad_de_manzanas = 10\n",
    "cantidad_de_naranjas = 13\n",
    "cantidad_de_frutas = cantidad_de_manzanas + cantidad_de_naranjas\n",
    "print(cantidad_de_frutas)\n",
    "\n",
    "frutas_comidas = 8\n",
    "frutas_restantes = cantidad_de_frutas - frutas_comidas\n",
    "print(frutas_restantes)"
   ]
  },
  {
   "cell_type": "markdown",
   "metadata": {},
   "source": [
    "---"
   ]
  },
  {
   "cell_type": "markdown",
   "metadata": {},
   "source": [
    "## Jugando con texto"
   ]
  },
  {
   "cell_type": "code",
   "execution_count": 36,
   "metadata": {},
   "outputs": [
    {
     "name": "stdout",
     "output_type": "stream",
     "text": [
      "Enmanuel\n",
      "Ruffinelli\n",
      "EnmanuelRuffinelli\n",
      "Enmanuel Ruffinelli\n"
     ]
    }
   ],
   "source": [
    "nombre = \"Enmanuel\"\n",
    "apellido = 'Ruffinelli'\n",
    "print(nombre)\n",
    "print(apellido)\n",
    "\n",
    "print(nombre + apellido)\n",
    "print(nombre + \" \" + apellido)"
   ]
  },
  {
   "cell_type": "markdown",
   "metadata": {},
   "source": [
    "---"
   ]
  },
  {
   "cell_type": "markdown",
   "metadata": {},
   "source": [
    "## Challenge 🤺\n",
    "\n",
    "1. Asignar el nombre y el apellido de tu compañera/o a las variables `nombre` y `apellido`. Luego, imprimir la siguiente frase, utilizando las variables: \"Hola. Mi nombre es Enmanuel Ruffinelli. Mucho gusto.\""
   ]
  },
  {
   "cell_type": "code",
   "execution_count": 38,
   "metadata": {},
   "outputs": [
    {
     "name": "stdout",
     "output_type": "stream",
     "text": [
      "Hola. Mi nombre es Fabrico Shultz mucho gusto\n"
     ]
    }
   ],
   "source": [
    "# Solución de Rubencho\n",
    "\n",
    "nombre = \"Fabrico\"\n",
    "apellido = \"Shultz\"\n",
    "print(\"Hola. Mi nombre es \" + nombre + \" \" + apellido + \" mucho gusto\")"
   ]
  },
  {
   "cell_type": "markdown",
   "metadata": {},
   "source": [
    "---"
   ]
  },
  {
   "cell_type": "markdown",
   "metadata": {},
   "source": [
    "## Obteniendo datos del usuario"
   ]
  },
  {
   "cell_type": "code",
   "execution_count": 40,
   "metadata": {},
   "outputs": [
    {
     "name": "stdout",
     "output_type": "stream",
     "text": [
      "1\n",
      "2\n"
     ]
    }
   ],
   "source": [
    "numero1 = input(\"Escriba un número, por favor: \")\n",
    "print(numero1)\n",
    "\n",
    "numero2 = input(\"Escriba otro número, por favor: \")\n",
    "print(numero2)"
   ]
  },
  {
   "cell_type": "markdown",
   "metadata": {},
   "source": [
    "### Suma de datos del usuario\n",
    "\n",
    "<u>Pregunta</u>: si sumamos estas dos variables, ¿qué obtendremos como resultado?"
   ]
  },
  {
   "cell_type": "code",
   "execution_count": 41,
   "metadata": {},
   "outputs": [
    {
     "name": "stdout",
     "output_type": "stream",
     "text": [
      "1\n",
      "2\n",
      "12\n"
     ]
    }
   ],
   "source": [
    "# Primer ingreso de datos\n",
    "numero1 = input(\"Escriba un numero, por favor: \")\n",
    "print(numero1)\n",
    "\n",
    "# Segundo ingreso de datos\n",
    "numero2 = input(\"Escriba otro numero, por favor: \")\n",
    "print(numero2)\n",
    "\n",
    "# Suma de ambas variables\n",
    "print(numero1 + numero2)"
   ]
  },
  {
   "cell_type": "code",
   "execution_count": 45,
   "metadata": {},
   "outputs": [
    {
     "name": "stdout",
     "output_type": "stream",
     "text": [
      "12\n",
      "3\n"
     ]
    }
   ],
   "source": [
    "print(\"1\" + \"2\") # Concatenación -> strings\n",
    "print(1 + 2) # Suma -> enteros \n",
    "hola = input(\"hola carola\")"
   ]
  },
  {
   "cell_type": "markdown",
   "metadata": {},
   "source": [
    "## Identificando el tipo de dato"
   ]
  },
  {
   "cell_type": "code",
   "execution_count": 46,
   "metadata": {},
   "outputs": [
    {
     "name": "stdout",
     "output_type": "stream",
     "text": [
      "1\n",
      "2\n",
      "<class 'str'>\n",
      "<class 'str'>\n"
     ]
    }
   ],
   "source": [
    "# Primer ingreso de datos\n",
    "numero1 = input(\"Escriba un numero, por favor: \")\n",
    "print(numero1)\n",
    "\n",
    "# Segundo ingreso de datos\n",
    "numero2 = input(\"Escriba otro numero, por favor: \")\n",
    "print(numero2)\n",
    "\n",
    "# Impresión de los tipos de variables\n",
    "print(type(numero1))\n",
    "print(type(numero2))"
   ]
  },
  {
   "cell_type": "markdown",
   "metadata": {},
   "source": [
    "## Conversión de tipo de dato: texto a número entero"
   ]
  },
  {
   "cell_type": "code",
   "execution_count": 47,
   "metadata": {},
   "outputs": [
    {
     "name": "stdout",
     "output_type": "stream",
     "text": [
      "1\n",
      "2\n",
      "<class 'int'>\n",
      "<class 'int'>\n",
      "3\n"
     ]
    }
   ],
   "source": [
    "# Primer ingreso de datos\n",
    "numero1 = input(\"Escriba un numero, por favor: \")\n",
    "print(numero1)\n",
    "\n",
    "# Segundo ingreso de datos\n",
    "numero2 = input(\"Escriba otro numero, por favor: \")\n",
    "print(numero2)\n",
    "\n",
    "# Conversión de tipo de variable\n",
    "numero1 = int(numero1)\n",
    "numero2 = int(numero2)\n",
    "\n",
    "print(type(numero1))\n",
    "print(type(numero2))\n",
    "\n",
    "print(numero1 + numero2)"
   ]
  },
  {
   "cell_type": "code",
   "execution_count": 52,
   "metadata": {},
   "outputs": [
    {
     "name": "stdout",
     "output_type": "stream",
     "text": [
      "123.0\n"
     ]
    }
   ],
   "source": [
    "palabra = \"123.0\"\n",
    "palabra = float(palabra)\n",
    "print(palabra)"
   ]
  },
  {
   "cell_type": "markdown",
   "metadata": {},
   "source": [
    "---"
   ]
  },
  {
   "cell_type": "markdown",
   "metadata": {},
   "source": [
    "# Funciones"
   ]
  },
  {
   "cell_type": "code",
   "execution_count": 55,
   "metadata": {},
   "outputs": [
    {
     "name": "stdout",
     "output_type": "stream",
     "text": [
      "Buenas tardes, penguins!\n",
      "Buenas tardes, penguins!\n",
      "Buenas tardes, penguins!\n",
      "Buenas tardes, penguins!\n"
     ]
    }
   ],
   "source": [
    "def mi_funcion(): # Define la función\n",
    "    print(\"Buenas tardes, penguins!\") # Define la acción de la función\n",
    "\n",
    "mi_funcion() # Llamamos a la función\n",
    "mi_funcion()\n",
    "mi_funcion()\n",
    "mi_funcion()"
   ]
  },
  {
   "cell_type": "markdown",
   "metadata": {},
   "source": [
    "## Parámetros y argumentos"
   ]
  },
  {
   "cell_type": "code",
   "execution_count": 59,
   "metadata": {},
   "outputs": [
    {
     "name": "stdout",
     "output_type": "stream",
     "text": [
      "Mi nombre es: Enmanuel\n",
      "Mi nombre es: Enri\n",
      "Mi nombre es: Alex\n"
     ]
    }
   ],
   "source": [
    "def mi_print(nombre):\n",
    "    print(\"Mi nombre es: \" + nombre)\n",
    "\n",
    "mi_print(\"Enmanuel\")\n",
    "mi_print(\"Enri\")\n",
    "mi_print(\"Alex\")"
   ]
  },
  {
   "cell_type": "code",
   "execution_count": 61,
   "metadata": {},
   "outputs": [
    {
     "name": "stdout",
     "output_type": "stream",
     "text": [
      "Hola Claudia. Soy Steven y te doy la bienvenida a Penguin!\n",
      "Hola Rubencho. Soy Enmanuel y te doy la bienvenida a Penguin!\n"
     ]
    }
   ],
   "source": [
    "def mi_print_de_bienvenida(nombre_alumno, nombre_coach):\n",
    "    print(\"Hola \" + nombre_alumno + \". Soy \" + nombre_coach + \" y te doy la bienvenida a Penguin!\")\n",
    "\n",
    "mi_print_de_bienvenida(\"Claudia\", \"Steven\")\n",
    "mi_print_de_bienvenida(\"Rubencho\", \"Enmanuel\")\n"
   ]
  },
  {
   "cell_type": "markdown",
   "metadata": {},
   "source": [
    "---"
   ]
  },
  {
   "cell_type": "markdown",
   "metadata": {},
   "source": [
    "## Challenge 🤺\n",
    "\n",
    "Definir una función que tome dos números como parámetros y los imprima sumándolos."
   ]
  },
  {
   "cell_type": "code",
   "execution_count": 62,
   "metadata": {},
   "outputs": [
    {
     "name": "stdout",
     "output_type": "stream",
     "text": [
      "5\n"
     ]
    }
   ],
   "source": [
    "# Solución de Lea\n",
    "\n",
    "def mi_print(numero1, numero2):\n",
    "    print(numero1 + numero2)\n",
    "\n",
    "mi_print(2,3)"
   ]
  },
  {
   "cell_type": "code",
   "execution_count": 63,
   "metadata": {},
   "outputs": [
    {
     "name": "stdout",
     "output_type": "stream",
     "text": [
      "Aca esta tu resultado: 12\n"
     ]
    }
   ],
   "source": [
    "# Solución de Federico\n",
    "\n",
    "def mi_suma(numerox, numeroy):\n",
    "    print(\"Aca esta tu resultado:\", int(numerox) + int(numeroy))\n",
    "    \n",
    "mi_suma(input(\"Escribi tu primer numero\"), input(\"Escribi tu segundo numero\"))"
   ]
  },
  {
   "cell_type": "code",
   "execution_count": 64,
   "metadata": {},
   "outputs": [
    {
     "name": "stdout",
     "output_type": "stream",
     "text": [
      "Aca esta tu resultado: 13\n"
     ]
    }
   ],
   "source": [
    "# Remix de Federico feat. Enri\n",
    "\n",
    "def mi_suma(numerox, numeroy):\n",
    "    print(\"Aca esta tu resultado:\", int(numerox) + int(numeroy))\n",
    "\n",
    "# pedir el primer numero\n",
    "n1 = input(\"dame numero 1\")\n",
    "# pedir el segundo numero\n",
    "n2 = input(\"dame numero 2\")\n",
    "\n",
    "#mi_suma(input(\"Escribi tu primer numero\"), input(\"Escribi tu segundo numero\"))\n",
    "\n",
    "mi_suma(n1, n2)"
   ]
  },
  {
   "cell_type": "markdown",
   "metadata": {},
   "source": [
    " ## Función personalizada vs función built-in"
   ]
  },
  {
   "cell_type": "code",
   "execution_count": 67,
   "metadata": {},
   "outputs": [
    {
     "data": {
      "text/plain": [
       "75"
      ]
     },
     "execution_count": 67,
     "metadata": {},
     "output_type": "execute_result"
    }
   ],
   "source": [
    "numeros = [1, 4, 10, 20, 40]\n",
    "sum(numeros)"
   ]
  },
  {
   "cell_type": "markdown",
   "metadata": {},
   "source": [
    "## Alcance (scope)"
   ]
  },
  {
   "cell_type": "markdown",
   "metadata": {},
   "source": [
    "### Alcance local"
   ]
  },
  {
   "cell_type": "code",
   "execution_count": 70,
   "metadata": {},
   "outputs": [
    {
     "name": "stdout",
     "output_type": "stream",
     "text": [
      "5000\n"
     ]
    }
   ],
   "source": [
    "def imprimir_precio():\n",
    "    valor = 5000\n",
    "    print(valor)\n",
    "\n",
    "imprimir_precio()"
   ]
  },
  {
   "cell_type": "markdown",
   "metadata": {},
   "source": [
    "### Alcance global"
   ]
  },
  {
   "cell_type": "code",
   "execution_count": 71,
   "metadata": {},
   "outputs": [
    {
     "name": "stdout",
     "output_type": "stream",
     "text": [
      "10000\n"
     ]
    }
   ],
   "source": [
    "valor_global = 10000\n",
    "\n",
    "def imprimir_precio():\n",
    "    print(valor_global)\n",
    "\n",
    "imprimir_precio()"
   ]
  },
  {
   "cell_type": "markdown",
   "metadata": {},
   "source": [
    "---"
   ]
  },
  {
   "cell_type": "markdown",
   "metadata": {},
   "source": [
    "## Challenge 🤺\n",
    "\n",
    "Escribir una función que calcule el total a abonar por IVA según un monto. La función debe recibir un monto, y devolver solamente el monto del IVA. \n",
    "\n",
    "<u>Observación:</u>\n",
    "\n",
    "1. Para calcular el IVA dividimos el monto entre `11`.\n",
    "2. Para redondear un número, utilizamos la función `round()`.\n",
    "3. Para convertir a texto un número, utilizamos la función `str()`."
   ]
  }
 ],
 "metadata": {
  "interpreter": {
   "hash": "aee8b7b246df8f9039afb4144a1f6fd8d2ca17a180786b69acc140d282b71a49"
  },
  "kernelspec": {
   "display_name": "Python 3.9.12 64-bit",
   "language": "python",
   "name": "python3"
  },
  "language_info": {
   "codemirror_mode": {
    "name": "ipython",
    "version": 3
   },
   "file_extension": ".py",
   "mimetype": "text/x-python",
   "name": "python",
   "nbconvert_exporter": "python",
   "pygments_lexer": "ipython3",
   "version": "3.9.12"
  },
  "orig_nbformat": 4
 },
 "nbformat": 4,
 "nbformat_minor": 2
}
