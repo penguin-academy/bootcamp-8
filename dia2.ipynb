{
 "cells": [
  {
   "cell_type": "markdown",
   "metadata": {},
   "source": [
    "# Continuación de Funciones"
   ]
  },
  {
   "cell_type": "markdown",
   "metadata": {},
   "source": [
    "## Challenge 🤺\n",
    "\n",
    "Escribir una función que calcule el total a abonar por IVA según un monto. La función debe recibir un monto, y devolver solamente el monto del IVA. \n",
    "\n",
    "<u>Observación:</u>\n",
    "\n",
    "1. Para calcular el IVA dividimos el monto entre `11`.\n",
    "2. Para redondear un número, utilizamos la función `round()`.\n",
    "3. Para convertir a texto un número, utilizamos la función `str()`."
   ]
  },
  {
   "cell_type": "code",
   "execution_count": 2,
   "metadata": {},
   "outputs": [
    {
     "name": "stdout",
     "output_type": "stream",
     "text": [
      "El monto del IVA aportado es de 1818\n",
      "El monto del IVA aportado es de 4545\n"
     ]
    }
   ],
   "source": [
    "# Solución de Joel\n",
    "\n",
    "def abono_iva(monto_con_iva):\n",
    "    iva = 11\n",
    "    print(f'El monto del IVA aportado es de {round(monto_con_iva / iva)}')\n",
    "\n",
    "abono_iva(20000)\n",
    "abono_iva(50000)"
   ]
  },
  {
   "cell_type": "code",
   "execution_count": 3,
   "metadata": {},
   "outputs": [
    {
     "name": "stdout",
     "output_type": "stream",
     "text": [
      "Tu deuda total es 6818\n"
     ]
    }
   ],
   "source": [
    "# Solución de Oliver\n",
    "\n",
    "deuda = int(input(\"Agregue un valor X: \"))\n",
    "\n",
    "def mi_deuda(deuda):\n",
    "    print(\"Tu deuda total es\", round(deuda/11))\n",
    "    \n",
    "mi_deuda(deuda)"
   ]
  },
  {
   "cell_type": "code",
   "execution_count": 8,
   "metadata": {},
   "outputs": [
    {
     "name": "stdout",
     "output_type": "stream",
     "text": [
      "Gs.1,200,000.00\n"
     ]
    }
   ],
   "source": [
    "monto_iva = 1200000\n",
    "print(\"Gs.{:,.2f}\".format(monto_iva))"
   ]
  },
  {
   "cell_type": "markdown",
   "metadata": {},
   "source": [
    "---"
   ]
  },
  {
   "cell_type": "markdown",
   "metadata": {},
   "source": [
    "# Condicionales"
   ]
  },
  {
   "cell_type": "code",
   "execution_count": 16,
   "metadata": {},
   "outputs": [
    {
     "name": "stdout",
     "output_type": "stream",
     "text": [
      "Activa laboralmente\n"
     ]
    }
   ],
   "source": [
    "# Una condición\n",
    "\n",
    "edad_laboral = 18\n",
    "\n",
    "if edad_laboral < 18: # ¿Es esta condición True?\n",
    "    print(\"Menor de edad\")\n",
    "elif edad_laboral > 65:\n",
    "    print(\"Jubilada\")\n",
    "else:\n",
    "    print(\"Activa laboralmente\")"
   ]
  },
  {
   "cell_type": "code",
   "execution_count": 18,
   "metadata": {},
   "outputs": [
    {
     "name": "stdout",
     "output_type": "stream",
     "text": [
      "Activo laboralmente\n"
     ]
    }
   ],
   "source": [
    "# Dos condiciones a la vez\n",
    "\n",
    "edad_laboral = 70\n",
    "trabaja = True # Booleano\n",
    "\n",
    "if edad_laboral < 18:\n",
    "    print(\"Estudiante menor de edad\")\n",
    "elif edad_laboral < 65 and trabaja == True:\n",
    "    print(\"Activo laboralmente\")\n",
    "elif edad_laboral < 65 and trabaja == False:\n",
    "    print(\"Estudiante\")\n",
    "else:\n",
    "    print(\"Jubilada\")"
   ]
  },
  {
   "cell_type": "markdown",
   "metadata": {},
   "source": [
    "## Challenge 🤺\n",
    "\n",
    "Escribir un programa en el que se pregunte al usuario por una temperatura (en grados Celsius), imprima la temperatura escrita, y luego clasificar la temperatura ingresada en 3 niveles:\n",
    "\n",
    "1. Entre `-10` y `18` grados, que imprima \"Ro'y koko\".\n",
    "2. Entre `19` y `30` grados, que imprima \"Calor'i\".\n",
    "3. Entre `31` y `45` grados, que imprima \"Hakuuuuuu\".\n",
    "4. Para todo lo demás, imprimir \"Ñamano mba'e!\"."
   ]
  },
  {
   "cell_type": "code",
   "execution_count": 21,
   "metadata": {},
   "outputs": [
    {
     "name": "stdout",
     "output_type": "stream",
     "text": [
      "Ñamano mba'e\n"
     ]
    }
   ],
   "source": [
    "# Solución de Diana\n",
    "\n",
    "temperatura = int(input(\"¿Cuantos grados hace?\"))\n",
    "\n",
    "if temperatura >= -10 and temperatura <= 18:\n",
    "    print(\"Fresquete\")\n",
    "elif temperatura >= 19 and temperatura <= 30:\n",
    "    print(\"Calor'i\")\n",
    "elif temperatura >= 31 and temperatura <= 45:\n",
    "    print(\"Hakuuuu\")\n",
    "else:\n",
    "    print(\"Ñamano mba'e\")"
   ]
  },
  {
   "cell_type": "code",
   "execution_count": 26,
   "metadata": {},
   "outputs": [
    {
     "name": "stdout",
     "output_type": "stream",
     "text": [
      "La temperatura es: Calor\n"
     ]
    }
   ],
   "source": [
    "# Solución de Luz\n",
    "\n",
    "grados = int(input(\"Ingrese la temperatura actual: \"))\n",
    "\n",
    "temperatura_fresco = grados >= -10 and grados <=18\n",
    "temperatura_calor = grados >= 19 and grados <= 30\n",
    "temperatura_hakuro = grados >= 31 and grados <= 45\n",
    "\n",
    "if temperatura_fresco:\n",
    "    print(\"La temperatura es: Fresco\")\n",
    "elif temperatura_calor:\n",
    "    print(\"La temperatura es: Calor\")\n",
    "elif temperatura_hakuro:\n",
    "    print(\"La temperatura es: Hakuro\")\n",
    "else:\n",
    "    print(\"Ñamano mba'e\")"
   ]
  },
  {
   "cell_type": "markdown",
   "metadata": {},
   "source": [
    "---"
   ]
  },
  {
   "cell_type": "markdown",
   "metadata": {},
   "source": [
    "# Bucles condicionales (while)\n"
   ]
  },
  {
   "cell_type": "code",
   "execution_count": 29,
   "metadata": {},
   "outputs": [
    {
     "name": "stdout",
     "output_type": "stream",
     "text": [
      "10\n",
      "76\n",
      "12\n",
      "0\n"
     ]
    }
   ],
   "source": [
    "numero = None\n",
    "\n",
    "while numero != 0: # mientras numero es distinto a cero\n",
    "    numero = int(input(\"Introduce un numero: \")) \n",
    "    print(numero)"
   ]
  },
  {
   "cell_type": "code",
   "execution_count": 35,
   "metadata": {},
   "outputs": [
    {
     "name": "stdout",
     "output_type": "stream",
     "text": [
      "hola\n"
     ]
    }
   ],
   "source": [
    "while True:\n",
    "    frase = input(\"Introduce algo: \")\n",
    "    if frase == \"salir\":\n",
    "        break\n",
    "    print(frase)"
   ]
  },
  {
   "cell_type": "markdown",
   "metadata": {},
   "source": [
    "## Challenge 🤺\n",
    "\n",
    "Escribir un programa que almacene una contraseña en una variable, y pregunte al usuario por la contraseña hasta que introduzca la contraseña correcta."
   ]
  },
  {
   "cell_type": "code",
   "execution_count": 36,
   "metadata": {},
   "outputs": [
    {
     "name": "stdout",
     "output_type": "stream",
     "text": [
      "The password is wrong\n",
      "The password is wrong\n",
      "The operation was succesful\n"
     ]
    }
   ],
   "source": [
    "# Solución de Sebas\n",
    "\n",
    "codigo = \"altf4\"\n",
    "\n",
    "while True:\n",
    "    user = input(\"Introduce your password: \")\n",
    "    if user == codigo:\n",
    "        break\n",
    "    elif user != codigo:\n",
    "        print(\"The password is wrong\")\n",
    "print(\"The operation was succesful\")"
   ]
  },
  {
   "cell_type": "code",
   "execution_count": 37,
   "metadata": {},
   "outputs": [
    {
     "name": "stdout",
     "output_type": "stream",
     "text": [
      "Hmmm... something in the way\n",
      "Hmmm... something in the way\n",
      "Bienvenido a la baticueva, Bruno Diaz\n"
     ]
    }
   ],
   "source": [
    "# Solución de Aharon\n",
    "\n",
    "while True:\n",
    "    frase = input(\"Quien es Batman?\")\n",
    "    if frase == \"robert pattinson\":\n",
    "        print(\"Bienvenido a la baticueva, Bruno Diaz\")\n",
    "        break\n",
    "    else:\n",
    "        print(\"Hmmm... something in the way\")"
   ]
  },
  {
   "cell_type": "code",
   "execution_count": 39,
   "metadata": {},
   "outputs": [
    {
     "name": "stdout",
     "output_type": "stream",
     "text": [
      "Intente otra vez\n",
      "Intente otra vez\n",
      "Intente otra vez\n",
      "Bienvenido\n"
     ]
    }
   ],
   "source": [
    "# Solución de Fede\n",
    "\n",
    "password_ingresado = input(\"Escribe tu password de manera secreta\")\n",
    "password_correcto = password_ingresado\n",
    "\n",
    "intento = input(\"Escriba el password\")\n",
    "\n",
    "while intento != password_correcto:\n",
    "    print(\"Intente otra vez\")\n",
    "    intento = input(\"Intente otra vez\")\n",
    "print(\"Bienvenido\")"
   ]
  },
  {
   "cell_type": "markdown",
   "metadata": {},
   "source": [
    "---"
   ]
  },
  {
   "cell_type": "markdown",
   "metadata": {},
   "source": [
    "# Bucles iterativos (for)"
   ]
  },
  {
   "cell_type": "markdown",
   "metadata": {},
   "source": [
    "## Listas"
   ]
  },
  {
   "cell_type": "code",
   "execution_count": 60,
   "metadata": {},
   "outputs": [
    {
     "name": "stdout",
     "output_type": "stream",
     "text": [
      "naranjas\n",
      "kiwis\n",
      "5\n",
      "['naranjas', 'peras', 'sandias', 'kiwis', 'mango', 'ciruelas']\n",
      "['naranjas', 'tomates', 'peras', 'sandias', 'kiwis', 'mango', 'ciruelas']\n",
      "['naranjas', 'peras', 'sandias', 'kiwis', 'mango', 'ciruelas']\n",
      "['naranjas', 'peras', 'sandias', 'kiwis', 'ciruelas']\n",
      "[]\n"
     ]
    }
   ],
   "source": [
    "# Lista de texto\n",
    "lista_frutas = [\"naranjas\", \"peras\", \"sandias\", \"kiwis\", \"mango\"]\n",
    "\n",
    "# Diferentes tipos de datos en la lista\n",
    "lista_bool = [True, False, True, False]\n",
    "lista_numeros = [1.99, 2, 3, 4.5, 5]\n",
    "lista_variada = [\"peras\", 10, False]\n",
    "\n",
    "# Acceder a elementos de la lista\n",
    "print(lista_frutas[0])\n",
    "print(lista_frutas[3])\n",
    "\n",
    "# Contar elementos de una lista\n",
    "print(len(lista_frutas))\n",
    "\n",
    "# Añadir un elemento a la lista: al final\n",
    "lista_frutas.append(\"ciruelas\")\n",
    "print(lista_frutas)\n",
    "\n",
    "# Añadir un elemento a la lista: eligiendo la posición\n",
    "lista_frutas.insert(1, \"tomates\")\n",
    "print(lista_frutas)\n",
    "\n",
    "# Eliminar un elemento por su valor\n",
    "lista_frutas.remove(\"tomates\")\n",
    "print(lista_frutas)\n",
    "\n",
    "# Eliminar un elemento por su posición\n",
    "lista_frutas.pop(4)\n",
    "print(lista_frutas)\n",
    "\n",
    "# Eliminar todos los elementos = reasignar lista vacía\n",
    "lista_frutas = []\n",
    "print(lista_frutas)\n"
   ]
  },
  {
   "cell_type": "code",
   "execution_count": 57,
   "metadata": {},
   "outputs": [
    {
     "name": "stdout",
     "output_type": "stream",
     "text": [
      "['Rubik', 'Tembleque']\n",
      "[<built-in function print>, <built-in function len>]\n",
      "hola Fer\n"
     ]
    }
   ],
   "source": [
    "juguete1 = \"Rubik\"\n",
    "juguete2 = \"Tembleque\"\n",
    "\n",
    "lista_juguetes = [juguete1, juguete2]\n",
    "print(lista_juguetes)\n",
    "\n",
    "lista_funciones = [print, len]\n",
    "print(lista_funciones)\n",
    "lista_funciones[0](\"hola Fer\")"
   ]
  },
  {
   "cell_type": "markdown",
   "metadata": {},
   "source": [
    "## Challenge 🤺\n",
    "\n",
    "Crear una lista de integrantes de la mesa.\n",
    "\n",
    "**Imprimir**: \n",
    "- Integrante 1: Fabri\n",
    "- Integrante 2: Clau\n",
    "- ..."
   ]
  },
  {
   "cell_type": "code",
   "execution_count": 61,
   "metadata": {},
   "outputs": [
    {
     "name": "stdout",
     "output_type": "stream",
     "text": [
      "Integrante 1 Ivan Acuña\n",
      "Integrante 2 Diego Mendoza\n",
      "Integrante 3 Martin Fernandez\n",
      "Integrante 4 Oscar Estigarribia\n"
     ]
    }
   ],
   "source": [
    "# Solución de Oscar\n",
    "\n",
    "lista_mesa = [\"Ivan Acuña\", \"Diego Mendoza\", \"Martin Fernandez\", \"Oscar Estigarribia\"]\n",
    "print(\"Integrante 1\", lista_mesa[0])\n",
    "print(\"Integrante 2\", lista_mesa[1])\n",
    "print(\"Integrante 3\", lista_mesa[2])\n",
    "print(\"Integrante 4\", lista_mesa[3])"
   ]
  },
  {
   "cell_type": "markdown",
   "metadata": {},
   "source": [
    "---"
   ]
  },
  {
   "cell_type": "markdown",
   "metadata": {},
   "source": [
    "# Volviendo a `for`"
   ]
  },
  {
   "cell_type": "code",
   "execution_count": 62,
   "metadata": {},
   "outputs": [
    {
     "name": "stdout",
     "output_type": "stream",
     "text": [
      "p\n",
      "e\n",
      "n\n",
      "g\n",
      "u\n",
      "i\n",
      "n\n"
     ]
    }
   ],
   "source": [
    "# Ejemplo con strings\n",
    "\n",
    "palabra = input(\"Introduce una palabra: \")\n",
    "\n",
    "for letra in palabra:\n",
    "    print(letra)"
   ]
  },
  {
   "cell_type": "code",
   "execution_count": 4,
   "metadata": {},
   "outputs": [
    {
     "name": "stdout",
     "output_type": "stream",
     "text": [
      "* Pan\n",
      "* Mantequilla\n",
      "* Miel\n",
      "* Arandanos\n"
     ]
    }
   ],
   "source": [
    "# Ejemplo con lista\n",
    "\n",
    "lista_compras = [\"Pan\", \"Mantequilla\", \"Miel\", \"Arandanos\"]\n",
    "\n",
    "for objeto in lista_compras:\n",
    "    print(\"*\", objeto)"
   ]
  },
  {
   "cell_type": "code",
   "execution_count": 8,
   "metadata": {},
   "outputs": [
    {
     "name": "stdout",
     "output_type": "stream",
     "text": [
      "Enri tqm\n",
      "0\n",
      "Enri tqm\n",
      "1\n"
     ]
    }
   ],
   "source": [
    "# Ejemplo con rango\n",
    "\n",
    "for x in range(2):\n",
    "    print(\"Enri tqm\")\n",
    "    print(x)"
   ]
  },
  {
   "cell_type": "code",
   "execution_count": 15,
   "metadata": {},
   "outputs": [
    {
     "name": "stdout",
     "output_type": "stream",
     "text": [
      "- Integrante número 1: Ivan Acuña\n",
      "- Integrante número 2: Diego Mendoza\n",
      "- Integrante número 3: Martin Fernandez\n",
      "- Integrante número 4: Oscar Estigarribia\n"
     ]
    }
   ],
   "source": [
    "# Recorrer lista manualmente\n",
    "\n",
    "lista_mesa = [\"Ivan Acuña\", \"Diego Mendoza\", \"Martin Fernandez\", \"Oscar Estigarribia\"]\n",
    "print(\"- Integrante número 1:\", lista_mesa[0])\n",
    "print(\"- Integrante número 2:\", lista_mesa[1])\n",
    "print(\"- Integrante número 3:\", lista_mesa[2])\n",
    "print(\"- Integrante número 4:\", lista_mesa[3])"
   ]
  },
  {
   "cell_type": "code",
   "execution_count": 14,
   "metadata": {},
   "outputs": [
    {
     "name": "stdout",
     "output_type": "stream",
     "text": [
      "- Integrante número 1: Ivan Acuña\n",
      "- Integrante número 2: Diego Mendoza\n",
      "- Integrante número 3: Martin Fernandez\n",
      "- Integrante número 4: Oscar Estigarribia\n"
     ]
    }
   ],
   "source": [
    "# Recorrer lista con for\n",
    "\n",
    "lista_mesa = [\"Ivan Acuña\", \"Diego Mendoza\", \"Martin Fernandez\", \"Oscar Estigarribia\"]\n",
    "contador = 0\n",
    "\n",
    "for persona in lista_mesa:\n",
    "    contador += 1\n",
    "    print(\"- Integrante número \" + str(contador) + \": \" + persona)\n"
   ]
  },
  {
   "cell_type": "markdown",
   "metadata": {},
   "source": [
    "## Challenge 🤺\n",
    "\n",
    "Escribir un programa en el que se pregunte al usuario por una frase y una letra, y muestre por pantalla el número de veces que aparece la letra en la frase."
   ]
  },
  {
   "cell_type": "code",
   "execution_count": 10,
   "metadata": {},
   "outputs": [
    {
     "name": "stdout",
     "output_type": "stream",
     "text": [
      "2\n"
     ]
    }
   ],
   "source": [
    "# Solución de Ichi\n",
    "\n",
    "frase = input(\"Introduzca una canción de Taylor Swift\")\n",
    "vocal = input(\"Introduzca cualquier letra\")\n",
    "contador = 0\n",
    "\n",
    "for t in frase:\n",
    "    if vocal == t:\n",
    "        contador += 1\n",
    "print(contador)"
   ]
  },
  {
   "cell_type": "code",
   "execution_count": 11,
   "metadata": {},
   "outputs": [
    {
     "name": "stdout",
     "output_type": "stream",
     "text": [
      "3\n"
     ]
    }
   ],
   "source": [
    "# Solución de Fabri\n",
    "\n",
    "palabra = input(\"di alguna frase\")\n",
    "contador = 0\n",
    "letra_buscada = input(\"ahora una letra\")\n",
    "for letra in palabra:\n",
    "    if letra == letra_buscada:\n",
    "        contador = contador + 1\n",
    "print(contador)"
   ]
  }
 ],
 "metadata": {
  "interpreter": {
   "hash": "31f2aee4e71d21fbe5cf8b01ff0e069b9275f58929596ceb00d14d90e3e16cd6"
  },
  "kernelspec": {
   "display_name": "Python 3.8.9 64-bit",
   "language": "python",
   "name": "python3"
  },
  "language_info": {
   "codemirror_mode": {
    "name": "ipython",
    "version": 3
   },
   "file_extension": ".py",
   "mimetype": "text/x-python",
   "name": "python",
   "nbconvert_exporter": "python",
   "pygments_lexer": "ipython3",
   "version": "3.8.9"
  },
  "orig_nbformat": 4
 },
 "nbformat": 4,
 "nbformat_minor": 2
}
