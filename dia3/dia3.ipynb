{
 "cells": [
  {
   "cell_type": "markdown",
   "metadata": {},
   "source": [
    "# Wordle 💬\n"
   ]
  },
  {
   "cell_type": "markdown",
   "metadata": {},
   "source": [
    "Necesitamos los siguientes fundamentos:\n",
    "- Variables\n",
    "- Tipos de datos\n",
    "- Input\n",
    "- Concatenacion\n",
    "- Operadores logicos\n",
    "- Condicionales (control de flujo)\n",
    "- Funciones (built-in Python & personalizadas)\n",
    "- Bucles\n",
    "\n",
    "Ideas:\n",
    "- Grilla\n",
    "- Colores"
   ]
  },
  {
   "cell_type": "markdown",
   "metadata": {},
   "source": [
    "---"
   ]
  },
  {
   "cell_type": "markdown",
   "metadata": {},
   "source": [
    "## Variables"
   ]
  },
  {
   "cell_type": "code",
   "execution_count": 2,
   "metadata": {},
   "outputs": [],
   "source": [
    "palabra = \"calor\" # strings -> texto\n",
    "letra1 = \"a\" # strings -> texto\n",
    "letra2 = \"r\" # strings -> texto"
   ]
  },
  {
   "cell_type": "markdown",
   "metadata": {},
   "source": [
    "---"
   ]
  },
  {
   "cell_type": "markdown",
   "metadata": {},
   "source": [
    "## Tipos de datos"
   ]
  },
  {
   "cell_type": "code",
   "execution_count": 3,
   "metadata": {},
   "outputs": [],
   "source": [
    "cesped_es_blanco = False # Booleano\n",
    "cesped_es_verde = True # Booleano\n",
    "cantidad_de_participantes = 31 # Entero -> int\n",
    "numeros = [1, 2, 3, 4] # Lista"
   ]
  },
  {
   "cell_type": "markdown",
   "metadata": {},
   "source": [
    "---"
   ]
  },
  {
   "cell_type": "markdown",
   "metadata": {},
   "source": [
    "## Input "
   ]
  },
  {
   "cell_type": "code",
   "execution_count": 1,
   "metadata": {},
   "outputs": [
    {
     "name": "stdout",
     "output_type": "stream",
     "text": [
      "calor\n"
     ]
    }
   ],
   "source": [
    "pedido = input(\"Ingrese una palabra, por favor: \")\n",
    "print(pedido)"
   ]
  },
  {
   "cell_type": "markdown",
   "metadata": {},
   "source": [
    "---"
   ]
  },
  {
   "cell_type": "markdown",
   "metadata": {},
   "source": [
    "## Concatenación"
   ]
  },
  {
   "cell_type": "code",
   "execution_count": 5,
   "metadata": {},
   "outputs": [
    {
     "name": "stdout",
     "output_type": "stream",
     "text": [
      "La palabra ingresada es calor\n"
     ]
    }
   ],
   "source": [
    "# Genera: \"La palabra ingresada es calor\"\n",
    "mensaje1 = \"La palabra ingresada es \" + palabra\n",
    "print(mensaje1)"
   ]
  },
  {
   "cell_type": "markdown",
   "metadata": {},
   "source": [
    "---"
   ]
  },
  {
   "cell_type": "markdown",
   "metadata": {},
   "source": [
    "## Operadores lógicos"
   ]
  },
  {
   "cell_type": "code",
   "execution_count": 8,
   "metadata": {},
   "outputs": [
    {
     "name": "stdout",
     "output_type": "stream",
     "text": [
      "False\n",
      "True\n"
     ]
    }
   ],
   "source": [
    "# ==, !=, >, <, >=, <=\n",
    "# Wordle -> Verde/Gris\n",
    "letras_son_iguales = letra1 == letra2\n",
    "print(letras_son_iguales)\n",
    "\n",
    "# in\n",
    "# Wordle -> Amarillo/Gris\n",
    "letra_existe_en_la_palabra = letra1 in palabra\n",
    "print(letra_existe_en_la_palabra)"
   ]
  },
  {
   "cell_type": "code",
   "execution_count": null,
   "metadata": {},
   "outputs": [],
   "source": [
    "letra_ejemplo = \"p\"\n",
    "palabra_ejemplo = \"hola\"\n",
    "\n",
    "enri_ejemplo = letra_ejemplo in palabra_ejemplo\n",
    "print(enri_ejemplo)"
   ]
  },
  {
   "cell_type": "markdown",
   "metadata": {},
   "source": [
    "---"
   ]
  },
  {
   "cell_type": "markdown",
   "metadata": {},
   "source": [
    "## Condicionales"
   ]
  },
  {
   "cell_type": "code",
   "execution_count": 10,
   "metadata": {},
   "outputs": [
    {
     "name": "stdout",
     "output_type": "stream",
     "text": [
      "La letra existe en la palabra\n"
     ]
    }
   ],
   "source": [
    "# if True:\n",
    "#      print(\"Verdadero\")\n",
    "\n",
    "if letra_existe_en_la_palabra:\n",
    "    print(\"La letra existe en la palabra\")\n",
    "else:\n",
    "    print(\"La letra no existe en la palabra\")"
   ]
  },
  {
   "cell_type": "markdown",
   "metadata": {},
   "source": [
    "---"
   ]
  },
  {
   "cell_type": "markdown",
   "metadata": {},
   "source": [
    "## Funciones (definición y ejecución)"
   ]
  },
  {
   "cell_type": "code",
   "execution_count": 16,
   "metadata": {},
   "outputs": [
    {
     "name": "stdout",
     "output_type": "stream",
     "text": [
      "Hola penguins!\n",
      "Hola penguins!\n"
     ]
    }
   ],
   "source": [
    "def imprimir_saludo():\n",
    "    print(\"Hola penguins!\")\n",
    "\n",
    "imprimir_saludo()\n",
    "imprimir_saludo()"
   ]
  },
  {
   "cell_type": "markdown",
   "metadata": {},
   "source": [
    "---"
   ]
  },
  {
   "cell_type": "markdown",
   "metadata": {},
   "source": [
    "## Challenge 1 🤺\n",
    "\n",
    "Crear una función que imprima la variable `palabra`."
   ]
  },
  {
   "cell_type": "code",
   "execution_count": 20,
   "metadata": {},
   "outputs": [
    {
     "name": "stdout",
     "output_type": "stream",
     "text": [
      "calor\n",
      "calor\n",
      "calor\n"
     ]
    }
   ],
   "source": [
    "# Solución de Luz\n",
    "\n",
    "palabra = \"calor\"\n",
    "\n",
    "def saludo_del_dia():\n",
    "    print(palabra)\n",
    "\n",
    "saludo_del_dia()\n",
    "saludo_del_dia()\n",
    "saludo_del_dia()"
   ]
  },
  {
   "cell_type": "markdown",
   "metadata": {},
   "source": [
    "---"
   ]
  },
  {
   "cell_type": "markdown",
   "metadata": {},
   "source": [
    "## Funciones: parámetros y argumentos"
   ]
  },
  {
   "cell_type": "code",
   "execution_count": 26,
   "metadata": {},
   "outputs": [
    {
     "name": "stdout",
     "output_type": "stream",
     "text": [
      "frio\n",
      "calor\n"
     ]
    }
   ],
   "source": [
    "# Alcance global y local\n",
    "\n",
    "palabra_ejemplo = \"calor\"\n",
    "\n",
    "def cambiar_la_palabra_ejemplo(nueva_palabra):\n",
    "    palabra_ejemplo = nueva_palabra\n",
    "    print(palabra_ejemplo)\n",
    "\n",
    "cambiar_la_palabra_ejemplo(\"frio\")\n",
    "print(palabra_ejemplo)"
   ]
  },
  {
   "cell_type": "markdown",
   "metadata": {},
   "source": [
    "---"
   ]
  },
  {
   "cell_type": "markdown",
   "metadata": {},
   "source": [
    "## Challenge 2 🤺\n",
    "\n",
    "Crear una función que reciba dos letras (parámetros) y que verifique si son iguales:\n",
    "1. Si son iguales, imprimir **\"Las letras son iguales\"**.\n",
    "2. De lo contrario, imprimir **\"Las letras son diferentes\"**."
   ]
  },
  {
   "cell_type": "code",
   "execution_count": 28,
   "metadata": {},
   "outputs": [
    {
     "name": "stdout",
     "output_type": "stream",
     "text": [
      "Las letras son iguales\n"
     ]
    }
   ],
   "source": [
    "# Solución de Evelin\n",
    "\n",
    "def dos_letras(letra1, letra2):\n",
    "    if letra1 == letra2:\n",
    "        print(\"Las letras son iguales\")\n",
    "    if letra1 != letra2:\n",
    "        print(\"Las letras son diferentes\")\n",
    "dos_letras(\"e\", \"e\")"
   ]
  },
  {
   "cell_type": "code",
   "execution_count": null,
   "metadata": {},
   "outputs": [],
   "source": [
    "# Remix de Evelin feat. Penguins (.mp3)\n",
    "\n",
    "def dos_letras(letra1, letra2):\n",
    "    if letra1 == letra2:\n",
    "        print(\"Las letras son iguales\")\n",
    "    else:\n",
    "        print(\"Las letras son diferentes\")\n",
    "dos_letras(\"e\", \"e\")"
   ]
  },
  {
   "cell_type": "markdown",
   "metadata": {},
   "source": [
    "---"
   ]
  },
  {
   "cell_type": "markdown",
   "metadata": {},
   "source": [
    "## Funciones: `return`"
   ]
  },
  {
   "cell_type": "code",
   "execution_count": 36,
   "metadata": {},
   "outputs": [
    {
     "name": "stdout",
     "output_type": "stream",
     "text": [
      "False\n",
      "False\n",
      "True\n"
     ]
    }
   ],
   "source": [
    "def verificar_si_las_palabras_coinciden(palabra_a_encontrar, palabra_ingresada):\n",
    "    palabras_son_iguales = palabra_a_encontrar == palabra_ingresada\n",
    "    return palabras_son_iguales\n",
    "    \n",
    "primer_intento = verificar_si_las_palabras_coinciden(\"pleno\", \"perro\")\n",
    "print(primer_intento)\n",
    "segundo_intento = verificar_si_las_palabras_coinciden(\"pleno\", \"juego\")\n",
    "print(segundo_intento)\n",
    "tercer_intento = verificar_si_las_palabras_coinciden(\"pleno\", \"pleno\")\n",
    "print(tercer_intento)"
   ]
  },
  {
   "cell_type": "code",
   "execution_count": 39,
   "metadata": {},
   "outputs": [
    {
     "name": "stdout",
     "output_type": "stream",
     "text": [
      "asd\n"
     ]
    }
   ],
   "source": [
    "# Variable = Funcion(Argumentos)\n",
    "#            retornando a la variable\n",
    "\n",
    "algo = input(\"Escriba algo: \")\n",
    "\n",
    "primer_intento = verificar_si_las_palabras_coinciden(\"pleno\", \"perro\")"
   ]
  },
  {
   "cell_type": "markdown",
   "metadata": {},
   "source": [
    "---"
   ]
  },
  {
   "cell_type": "markdown",
   "metadata": {},
   "source": [
    "# Challenge 3 🤺\n",
    "\n",
    "Crear una función que reciba dos parámetros (una palabra y un número), y que retorne `True` si el número es igual a la cantidad de letras de la palabra. En caso contrario, que retorne `False`.\n",
    "\n",
    "Nota: `len()` para contar letras en la palabra."
   ]
  },
  {
   "cell_type": "code",
   "execution_count": 44,
   "metadata": {},
   "outputs": [
    {
     "name": "stdout",
     "output_type": "stream",
     "text": [
      "True\n"
     ]
    }
   ],
   "source": [
    "# Solucion de Ysis\n",
    "\n",
    "palabra = input(\"Escribe la palabra: \")\n",
    "numero = int(input(\"Ingrese el numero: \"))\n",
    "\n",
    "def funcion_palabra_numero(palabra, numero):\n",
    "    if len(palabra) == numero:\n",
    "        return True\n",
    "    else:\n",
    "        return False\n",
    "\n",
    "comparacion = funcion_palabra_numero(palabra, numero)\n",
    "print(comparacion)"
   ]
  },
  {
   "cell_type": "markdown",
   "metadata": {},
   "source": [
    "---"
   ]
  },
  {
   "cell_type": "markdown",
   "metadata": {},
   "source": [
    "# Challenge 4 🤺\n",
    "\n",
    "Crear función que revise si una palabra contiene una letra. En caso de que la contenga, retornar la letra entre corchetes `[]`. De lo contrario, retornar solo la letra."
   ]
  },
  {
   "cell_type": "code",
   "execution_count": 55,
   "metadata": {},
   "outputs": [
    {
     "name": "stdout",
     "output_type": "stream",
     "text": [
      "[a]\n"
     ]
    }
   ],
   "source": [
    "# Solución de Fede\n",
    "\n",
    "palabra = input(\"Ingrese la palabra que desea buscar.\")\n",
    "letra = input(\"Escriba la letra que desea comprobar.\")\n",
    "\n",
    "def verificar_letra(frase, letter):\n",
    "    for b in frase:\n",
    "        if b == letter:\n",
    "            return \"[\" + letter + \"]\"\n",
    "    for b in frase:\n",
    "        if b != letter:\n",
    "            return letter\n",
    "\n",
    "csgo = verificar_letra(palabra, letra)\n",
    "print(csgo)"
   ]
  },
  {
   "cell_type": "code",
   "execution_count": 54,
   "metadata": {},
   "outputs": [
    {
     "name": "stdout",
     "output_type": "stream",
     "text": [
      "a\n"
     ]
    }
   ],
   "source": [
    "# Solución de Fede feat. Fercito *fail edition*\n",
    "\n",
    "palabra = input(\"Ingrese la palabra que desea buscar.\")\n",
    "letra = input(\"Escriba la letra que desea comprobar.\")\n",
    "\n",
    "def verificar_letra(frase, letter):\n",
    "    for b in frase:\n",
    "        if b == letter:\n",
    "            return \"[\" + letter + \"]\"\n",
    "        else:\n",
    "            return letter\n",
    "\n",
    "csgo = verificar_letra(palabra, letra)\n",
    "print(csgo)"
   ]
  },
  {
   "cell_type": "code",
   "execution_count": 51,
   "metadata": {},
   "outputs": [
    {
     "data": {
      "text/plain": [
       "'a'"
      ]
     },
     "execution_count": 51,
     "metadata": {},
     "output_type": "execute_result"
    }
   ],
   "source": [
    "# Solución de Fabri(co)\n",
    "\n",
    "def revisar_letras_en_palabras(palabra, letra_existente_o_no):\n",
    "    resultado = \"\"\n",
    "    if letra_existente_o_no in palabra:\n",
    "        resultado = resultado + letra_existente_o_no\n",
    "        return \"[\"+resultado+\"]\"\n",
    "    else:\n",
    "        return letra_existente_o_no\n",
    "\n",
    "palabra_revisada = \"messi\"\n",
    "letra_revisada = \"a\"\n",
    "\n",
    "revisar_letras_en_palabras(palabra_revisada, letra_revisada)"
   ]
  },
  {
   "cell_type": "code",
   "execution_count": 58,
   "metadata": {},
   "outputs": [
    {
     "data": {
      "text/plain": [
       "'!o!'"
      ]
     },
     "execution_count": 58,
     "metadata": {},
     "output_type": "execute_result"
    }
   ],
   "source": [
    "# Solución de Clau\n",
    "\n",
    "def reviso_la_palabra(palabra, a):\n",
    "    if a in palabra:\n",
    "        return \"!\"+a+\"!\"\n",
    "    else:\n",
    "        return a\n",
    "\n",
    "reviso_la_palabra(\"hola\", \"o\")"
   ]
  },
  {
   "cell_type": "markdown",
   "metadata": {},
   "source": [
    "---"
   ]
  },
  {
   "cell_type": "markdown",
   "metadata": {},
   "source": [
    "## Funciones built-in (de Python)"
   ]
  },
  {
   "cell_type": "markdown",
   "metadata": {},
   "source": [
    "### `input()`"
   ]
  },
  {
   "cell_type": "code",
   "execution_count": 73,
   "metadata": {},
   "outputs": [
    {
     "name": "stdout",
     "output_type": "stream",
     "text": [
      "pleno\n",
      "plona\n"
     ]
    }
   ],
   "source": [
    "palabra_a_encontrar = input(\"Ingrese una palabra: \")\n",
    "print(palabra_a_encontrar)\n",
    "\n",
    "palabra_ingresada = input(\"Ingrese otra palabra: \")\n",
    "print(palabra_ingresada)"
   ]
  },
  {
   "cell_type": "markdown",
   "metadata": {},
   "source": [
    "### `list()`"
   ]
  },
  {
   "cell_type": "code",
   "execution_count": 74,
   "metadata": {},
   "outputs": [
    {
     "name": "stdout",
     "output_type": "stream",
     "text": [
      "['p', 'l', 'e', 'n', 'o']\n",
      "['p', 'l', 'o', 'n', 'a']\n"
     ]
    }
   ],
   "source": [
    "# Convertimos la palabra a encontrar a una lista\n",
    "lista_de_letras_de_la_palabra_a_encontrar = list(palabra_a_encontrar)\n",
    "\n",
    "# Convertimos la palabra ingresada a una lista\n",
    "lista_de_letras_de_la_palabra_ingresada = list(palabra_ingresada)\n",
    "\n",
    "print(lista_de_letras_de_la_palabra_a_encontrar)\n",
    "print(lista_de_letras_de_la_palabra_ingresada)"
   ]
  },
  {
   "cell_type": "markdown",
   "metadata": {},
   "source": [
    "---"
   ]
  },
  {
   "cell_type": "markdown",
   "metadata": {},
   "source": [
    "## Challenge 5 🤺\n",
    "\n",
    "Pedir al usuario que ingrese 1 palabra, luego convertir esa palabra a una lista con sus caracteres con `list()`. Agregar esa lista de caracteres a una lista llamada `palabras_ingresadas`. Repetir el proceso 3 veces. Cada vez que se agregue una lista de caracteres, imprimir la lista `palabras_ingresadas`."
   ]
  },
  {
   "cell_type": "code",
   "execution_count": 66,
   "metadata": {},
   "outputs": [
    {
     "name": "stdout",
     "output_type": "stream",
     "text": [
      "[['h', 'o', 'l', 'a'], ['h', 'o', 'l', 'i', 's'], ['h', 'e', 'l', 'l', 'o'], ['a', 'l', 'o']]\n"
     ]
    }
   ],
   "source": [
    "# Solución de Rodri\n",
    "\n",
    "lista_vacia = []\n",
    "\n",
    "for i in range(4):\n",
    "    palabra_a_ingresar = list(input(\"Favor ingrese la palabra: \"))\n",
    "    lista_vacia.append(palabra_a_ingresar)\n",
    "print(lista_vacia)"
   ]
  },
  {
   "cell_type": "code",
   "execution_count": 64,
   "metadata": {},
   "outputs": [
    {
     "name": "stdout",
     "output_type": "stream",
     "text": [
      "[['h', 'o', 'l', 'a']]\n",
      "[['h', 'o', 'l', 'a'], ['h', 'o', 'l', 'i', 's']]\n",
      "[['h', 'o', 'l', 'a'], ['h', 'o', 'l', 'i', 's'], ['h', 'e', 'l', 'l', 'o']]\n"
     ]
    }
   ],
   "source": [
    "# Solución de Hassan\n",
    "\n",
    "lista1 = []\n",
    "\n",
    "introducirpalabra = input(\"Primer intento\")\n",
    "introducirpalabra1 = input(\"Segundo intento\")\n",
    "introducirpalabra2 = input(\"Tercer intento\")\n",
    "\n",
    "palabra1 = list(introducirpalabra)\n",
    "palabra2 = list(introducirpalabra1)\n",
    "palabra3 = list(introducirpalabra2)\n",
    "\n",
    "lista1.append(palabra1)\n",
    "print(lista1)\n",
    "lista1.append(palabra2)\n",
    "print(lista1)\n",
    "lista1.append(palabra3)\n",
    "print(lista1)"
   ]
  },
  {
   "cell_type": "markdown",
   "metadata": {},
   "source": [
    "---"
   ]
  },
  {
   "cell_type": "markdown",
   "metadata": {},
   "source": [
    "## Bucles `for`"
   ]
  },
  {
   "cell_type": "code",
   "execution_count": 68,
   "metadata": {},
   "outputs": [],
   "source": [
    "# Crear una lista vacía para el resultado\n",
    "# Definir la cantidad de letras de la palabra a encontrar\n",
    "# Si las letras existen en la palabra a encontrar y sus posiciones coinciden: encerrarlas en corchetes y agregar al resultado (lista)\n",
    "# Si las letras existen en la palabra a encontrar pero sus posiciones no coinciden: encerrarlas en parentesis y agregar al resultado (lista)\n",
    "# Si no se cumple ninguna de las anteriores, agregar al resultado (lista) sin hacer modificaciones\n",
    "# Retornar el resultado\n",
    "\n",
    "def obtener_fila_verificada(letras_de_la_palabra_a_encontrar, letras_de_la_palabra_ingresada):\n",
    "    # Definir la cantidad de letras de la palabra a encontrar\n",
    "    cantidad_de_letras_de_la_palabra_a_encontrar = 5\n",
    "    # Crear una lista vacía para el resultado\n",
    "    resultado = []\n",
    "    \n",
    "    # Iteramos por cada letra de la palabra ingresada\n",
    "    for posicion_de_la_letra in range(cantidad_de_letras_de_la_palabra_a_encontrar):\n",
    "        \n",
    "        las_letras_son_iguales = letras_de_la_palabra_a_encontrar[posicion_de_la_letra] == letras_de_la_palabra_ingresada[posicion_de_la_letra]\n",
    "        \n",
    "        la_letra_existe_en_la_palabra_a_encontrar = letras_de_la_palabra_ingresada[posicion_de_la_letra] in letras_de_la_palabra_a_encontrar\n",
    "        \n",
    "        if las_letras_son_iguales:\n",
    "            # Guardar las letras que estan en la palabra a encontrar y coinciden en la posición dentro de corchetes (color verde)\n",
    "            resultado.append(\"[\"+letras_de_la_palabra_ingresada[posicion_de_la_letra]+\"]\")\n",
    "            \n",
    "        elif la_letra_existe_en_la_palabra_a_encontrar:\n",
    "            # Guardar las letras que no coinciden pero que estan en la palabra a encontrar dentro de paréntesis (color amarillo)\n",
    "            resultado.append(\"(\"+letras_de_la_palabra_ingresada[posicion_de_la_letra]+\")\")\n",
    "            \n",
    "        else:\n",
    "            # Las que no coinciden se guardan sin modificaciones\n",
    "            resultado.append(letras_de_la_palabra_ingresada[posicion_de_la_letra])\n",
    "            \n",
    "    return resultado\n",
    "        "
   ]
  },
  {
   "cell_type": "markdown",
   "metadata": {},
   "source": [
    "---"
   ]
  },
  {
   "cell_type": "markdown",
   "metadata": {},
   "source": [
    "## Probamos nuestra función (y rezamos para que funcione)"
   ]
  },
  {
   "cell_type": "code",
   "execution_count": 75,
   "metadata": {},
   "outputs": [
    {
     "data": {
      "text/plain": [
       "['[p]', '[l]', '(o)', '[n]', 'a']"
      ]
     },
     "execution_count": 75,
     "metadata": {},
     "output_type": "execute_result"
    }
   ],
   "source": [
    "obtener_fila_verificada(lista_de_letras_de_la_palabra_a_encontrar, lista_de_letras_de_la_palabra_ingresada)"
   ]
  },
  {
   "cell_type": "markdown",
   "metadata": {},
   "source": [
    "---"
   ]
  },
  {
   "cell_type": "markdown",
   "metadata": {},
   "source": [
    "## Bucles `while`"
   ]
  },
  {
   "cell_type": "code",
   "execution_count": 76,
   "metadata": {},
   "outputs": [
    {
     "name": "stdout",
     "output_type": "stream",
     "text": [
      "Te quedan 5 intentos.\n",
      "plano\n",
      "Te quedan 4 intentos.\n",
      "pleni\n",
      "Te quedan 3 intentos.\n",
      "hello\n",
      "Te quedan 2 intentos.\n",
      "hola\n",
      "Te quedan 1 intentos.\n",
      "penguin\n",
      "Ya no quedan intentos.\n"
     ]
    }
   ],
   "source": [
    "# Programamos los intentos\n",
    "\n",
    "intentos = 5\n",
    "\n",
    "while intentos > 0:\n",
    "    print(\"Te quedan\", intentos, \"intentos.\")\n",
    "    palabra = input(\"Ingrese una palabra: \")\n",
    "    intentos = intentos - 1\n",
    "    print(palabra)\n",
    "print(\"Ya no quedan intentos.\")"
   ]
  },
  {
   "cell_type": "markdown",
   "metadata": {},
   "source": [
    "---"
   ]
  },
  {
   "cell_type": "markdown",
   "metadata": {},
   "source": [
    "# 💥💥💥 ¿Y si unimos todo? 💥💥💥\n",
    "\n",
    "<u>Nota:</u> Ver archivo `wordle.py`."
   ]
  }
 ],
 "metadata": {
  "interpreter": {
   "hash": "31f2aee4e71d21fbe5cf8b01ff0e069b9275f58929596ceb00d14d90e3e16cd6"
  },
  "kernelspec": {
   "display_name": "Python 3.8.9 64-bit",
   "language": "python",
   "name": "python3"
  },
  "language_info": {
   "codemirror_mode": {
    "name": "ipython",
    "version": 3
   },
   "file_extension": ".py",
   "mimetype": "text/x-python",
   "name": "python",
   "nbconvert_exporter": "python",
   "pygments_lexer": "ipython3",
   "version": "3.8.9"
  },
  "orig_nbformat": 4
 },
 "nbformat": 4,
 "nbformat_minor": 2
}
