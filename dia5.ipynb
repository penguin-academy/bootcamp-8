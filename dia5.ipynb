{
 "cells": [
  {
   "cell_type": "markdown",
   "metadata": {},
   "source": [
    "# Programación orientada a objetos"
   ]
  },
  {
   "cell_type": "markdown",
   "metadata": {},
   "source": [
    "---"
   ]
  },
  {
   "cell_type": "markdown",
   "metadata": {},
   "source": [
    "## Clases"
   ]
  },
  {
   "cell_type": "code",
   "execution_count": null,
   "metadata": {},
   "outputs": [],
   "source": [
    "# Creando una clase vacía\n",
    "class Penguin:\n",
    "    pass\n",
    "\n",
    "# Creamos un objeto de la clase Penguin\n",
    "mi_pinguino = Penguin()"
   ]
  },
  {
   "cell_type": "markdown",
   "metadata": {},
   "source": [
    "---"
   ]
  },
  {
   "cell_type": "markdown",
   "metadata": {},
   "source": [
    "## Definiendo atributos\n",
    "\n",
    "Es importante distinguir que existen dos tipos de atributos:\n",
    "\n",
    "- <u>Atributos de instancia</u>: Pertenecen a la instancia de la clase o al objeto. Son atributos particulares de cada instancia, en nuestro caso de cada pingüino.\n",
    "- <u>Atributos de clase</u>: Se trata de atributos que pertenecen a la clase, por lo tanto serán comunes para todos los objetos."
   ]
  },
  {
   "cell_type": "code",
   "execution_count": 9,
   "metadata": {},
   "outputs": [
    {
     "name": "stdout",
     "output_type": "stream",
     "text": [
      "Creando pinguino: 'Steven', Real\n",
      "<class '__main__.Penguin'>\n",
      "Ave\n",
      "Ave\n",
      "Steven\n",
      "Real\n",
      "Creando pinguino: 'Rico', Emperador\n",
      "Rico\n",
      "Emperador\n",
      "True\n"
     ]
    }
   ],
   "source": [
    "class Penguin:\n",
    "    # Definiendo un atributo de clase\n",
    "    categoria = \"Ave\"\n",
    "    con_alas = True\n",
    "    tiene_rodillas = True\n",
    "    vuela = False \n",
    "    \n",
    "    # El método __init__ es llamado al crear el objeto\n",
    "    def __init__(self, nombre, especie):\n",
    "        print(\"Creando pinguino: \" + \"'\" + nombre + \"', \" + especie)\n",
    "        \n",
    "        # Atributos de instancia\n",
    "        self.nombre = nombre\n",
    "        # mi_pinguino.nombre = \"Steven\"\n",
    "        self.especie = especie\n",
    "        # mi_pinguino.especie = \"Real\"\n",
    "\n",
    "# Creando un pingüino\n",
    "mi_pinguino = Penguin(\"Steven\", \"Real\")\n",
    "\n",
    "# Viendo qué tipo de dato es mi_pinguino\n",
    "print(type(mi_pinguino))\n",
    "\n",
    "# Viendo qué clase de animal es\n",
    "print(Penguin.categoria)\n",
    "print(mi_pinguino.categoria)\n",
    "print(mi_pinguino.nombre)\n",
    "print(mi_pinguino.especie)\n",
    "\n",
    "# Creando otro objeto\n",
    "mi_otro_pinguino = Penguin(\"Rico\", \"Emperador\")\n",
    "print(mi_otro_pinguino.nombre)\n",
    "print(mi_otro_pinguino.especie)\n",
    "print(mi_otro_pinguino.con_alas)"
   ]
  },
  {
   "cell_type": "markdown",
   "metadata": {},
   "source": [
    "---"
   ]
  },
  {
   "cell_type": "markdown",
   "metadata": {},
   "source": [
    "## Challenge 🤺\n",
    "\n",
    "Crear dos `class` de animales que tengan atributos de instancia y de clase.\n",
    "\n",
    "- Atributo de instancia: `nombre` & `color`.\n",
    "- Atributo de clase: `especie`.\n",
    "\n",
    "Luego, crear nuevos objetos a partir de las nuevas `class`. Imprimir el `nombre` y el `color` de los animales en una frase que diga: \"Me llamo Alex y soy un ave de color blanco\"."
   ]
  },
  {
   "cell_type": "code",
   "execution_count": 10,
   "metadata": {},
   "outputs": [
    {
     "name": "stdout",
     "output_type": "stream",
     "text": [
      "Me llamo Alex y soy un Nubia de color marron\n"
     ]
    }
   ],
   "source": [
    "# Solución de Clau\n",
    "\n",
    "class Leon:\n",
    "    especie = \"Nubia\"\n",
    "    \n",
    "    def __init__(self, nombre, color):\n",
    "        print(\"Me llamo \" + nombre + \" y soy un \" + self.especie + \" de color \" + color)\n",
    "        \n",
    "        self.nombre = nombre\n",
    "        self.color = color\n",
    "        \n",
    "objeto = Leon(\"Alex\", \"marron\")"
   ]
  },
  {
   "cell_type": "markdown",
   "metadata": {},
   "source": [
    "---"
   ]
  },
  {
   "cell_type": "markdown",
   "metadata": {},
   "source": [
    "## Métodos"
   ]
  },
  {
   "cell_type": "code",
   "execution_count": 15,
   "metadata": {},
   "outputs": [
    {
     "name": "stdout",
     "output_type": "stream",
     "text": [
      "Creando pinguino: 'Cabo', Chiquito\n",
      "Wooooshhhhhhh!!!!\n",
      "Caminando 79 pasos, lenta y torpemente\n",
      "<class 'list'>\n",
      "['hola']\n"
     ]
    }
   ],
   "source": [
    "class Penguin:\n",
    "    categoria = \"Ave\"\n",
    "    con_alas = True\n",
    "    tiene_rodillas = True\n",
    "    vuela = False \n",
    "    \n",
    "    # El método __init__ es llamado al crear el objeto\n",
    "    def __init__(self, nombre, especie):\n",
    "        print(\"Creando pinguino: \" + \"'\" + nombre + \"', \" + especie)\n",
    "        \n",
    "        # Atributos de instancia\n",
    "        self.nombre = nombre\n",
    "        # mi_pinguino.nombre = \"Steven\"\n",
    "        self.especie = especie\n",
    "        # mi_pinguino.especie = \"Real\"\n",
    "        \n",
    "    def nada(self):\n",
    "        print(\"Wooooshhhhhhh!!!!\")\n",
    "        \n",
    "    def camina(self, pasos):\n",
    "        print(f\"Caminando {pasos} pasos, lenta y torpemente\")\n",
    "        \n",
    "# Creando un pingüino\n",
    "un_pinguino = Penguin(\"Cabo\", \"Chiquito\")\n",
    "\n",
    "# Métodos -> acciones\n",
    "un_pinguino.nada()\n",
    "un_pinguino.camina(79)"
   ]
  },
  {
   "cell_type": "markdown",
   "metadata": {},
   "source": [
    "---"
   ]
  },
  {
   "cell_type": "markdown",
   "metadata": {},
   "source": [
    "## Challenge 🤺\n",
    "\n",
    "Crear dos métodos por animal, que sea `hablar` y `moverse`. \n",
    "\n",
    "- En el método `hablar`, imprimir: \"Cuando hablo, digo X\".\n",
    "- En el método `mover`, imprimir: \"Cuando me muevo, hago X\"."
   ]
  },
  {
   "cell_type": "code",
   "execution_count": 16,
   "metadata": {},
   "outputs": [
    {
     "name": "stdout",
     "output_type": "stream",
     "text": [
      "Me llamo Yoda y soy un alien de color verde\n",
      "Cuando hablo, digo do or do not. There is no try.\n",
      "Cuando me muevo, hago silencio.\n"
     ]
    }
   ],
   "source": [
    "# Solución de Ysis\n",
    "\n",
    "class perro():\n",
    "    especie = \"alien\"\n",
    "    \n",
    "    def __init__(self, nombre, color):\n",
    "        print(\"Me llamo \" + nombre + \" y soy un \" + perro.especie + \" de color \" + color)\n",
    "\n",
    "        self.nombre = nombre\n",
    "        self.color = color\n",
    "    \n",
    "    def habla(self):\n",
    "        print(\"Cuando hablo, digo do or do not. There is no try.\")\n",
    "    \n",
    "    def camina(self):\n",
    "        print(\"Cuando me muevo, hago silencio.\")\n",
    "\n",
    "mi_perro = perro(\"Yoda\", \"verde\")\n",
    "\n",
    "mi_perro.habla()\n",
    "mi_perro.camina()"
   ]
  },
  {
   "cell_type": "markdown",
   "metadata": {},
   "source": [
    "---"
   ]
  },
  {
   "cell_type": "markdown",
   "metadata": {},
   "source": [
    "## Herencia"
   ]
  },
  {
   "cell_type": "code",
   "execution_count": 25,
   "metadata": {},
   "outputs": [
    {
     "name": "stdout",
     "output_type": "stream",
     "text": [
      "(<class '__main__.Animal'>,)\n",
      "Piton\n",
      "10\n",
      "SsssSSssSSsssS\n",
      "Soy un animal del tipo Serpiente\n",
      "Soy un animal del tipo Hipopotamo\n",
      "hola\n"
     ]
    }
   ],
   "source": [
    "class Animal:\n",
    "    def __init__(self, especie, edad):\n",
    "        self.especie = especie\n",
    "        self.edad = edad\n",
    "    \n",
    "    def hablar(self):\n",
    "        print(\"hola\")\n",
    "    \n",
    "    def describeme(self):\n",
    "        print(\"Soy un animal del tipo\", type(self).__name__)\n",
    "\n",
    "class Serpiente(Animal):\n",
    "    clase = \"reptil\"\n",
    "    \n",
    "    def hablar(self):\n",
    "        print(\"SsssSSssSSsssS\")\n",
    "        \n",
    "    def comer(self):\n",
    "        print(\"Yo como X cosas\")\n",
    "\n",
    "class Hipopotamo(Animal):\n",
    "    clase = \"mamifero\"\n",
    "        \n",
    "# Corroborar la herencia\n",
    "print(Serpiente.__bases__)\n",
    "\n",
    "mi_serpiente = Serpiente(\"Piton\", 10)\n",
    "print(mi_serpiente.especie)\n",
    "print(mi_serpiente.edad)\n",
    "\n",
    "mi_serpiente.hablar()\n",
    "mi_serpiente.describeme()\n",
    "\n",
    "mi_hipopotamo = Hipopotamo(\"MotoMoto\", 90)\n",
    "mi_hipopotamo.describeme()\n",
    "mi_hipopotamo.hablar()"
   ]
  },
  {
   "cell_type": "markdown",
   "metadata": {},
   "source": [
    "---"
   ]
  },
  {
   "cell_type": "markdown",
   "metadata": {},
   "source": [
    "# DRY -> Don't Repeat Yourself"
   ]
  },
  {
   "cell_type": "markdown",
   "metadata": {},
   "source": [
    "---"
   ]
  },
  {
   "cell_type": "markdown",
   "metadata": {},
   "source": [
    "## Challenge 🤺\n",
    "\n",
    "Definir una clase madre que herede a sus clases hijas dos atributos de instancia. Mostrar ambos atributos en pantalla desde los objetos de las clases hijas.\n",
    "\n",
    "<u>Observación</u>: Editar las clases hijas para que no se inicialicen."
   ]
  },
  {
   "cell_type": "code",
   "execution_count": 47,
   "metadata": {},
   "outputs": [
    {
     "name": "stdout",
     "output_type": "stream",
     "text": [
      "8\n",
      "aloh\n",
      "*no se mueve*\n"
     ]
    }
   ],
   "source": [
    "# Solucion de Ruben\n",
    "\n",
    "class madre():\n",
    "    def __init__(self, nombre, edad):\n",
    "        self.nombre = nombre\n",
    "        self.edad = edad\n",
    "    \n",
    "    def saludar(self):\n",
    "        print(\"aloh\")\n",
    "    \n",
    "    def moverse(self):\n",
    "        print(\"*se mueve*\")\n",
    "\n",
    "class hijas(madre):\n",
    "    \n",
    "    def moverse(self):\n",
    "        print(\"*no se mueve*\")\n",
    "\n",
    "descendientes = hijas(\"reinalda\", 8)\n",
    "print(descendientes.edad)\n",
    "descendientes.saludar()\n",
    "descendientes.moverse()"
   ]
  },
  {
   "cell_type": "code",
   "execution_count": 27,
   "metadata": {},
   "outputs": [
    {
     "name": "stdout",
     "output_type": "stream",
     "text": [
      "hola soy nico robin\n",
      "solo tomo cafe\n",
      "humano\n",
      "30\n",
      "hola me llamo ace\n",
      "antes comia pero me hicieron dona\n",
      "humano\n",
      "20\n"
     ]
    }
   ],
   "source": [
    "# Solución de Sebas\n",
    "\n",
    "class one_piece():\n",
    "    def __init__(self, especie, edad):\n",
    "        self.especie = especie\n",
    "        self.edad = edad\n",
    "    \n",
    "    def hablar(self):\n",
    "        print(\"hola\")\n",
    "    \n",
    "    def describeme(self):\n",
    "        print(\"Soy un nakama :) \")\n",
    "    \n",
    "class nico_robin(one_piece):\n",
    "    clase = \"paramencia\"\n",
    "    \n",
    "    def hablar(self):\n",
    "        print(\"hola soy nico robin\")\n",
    "        \n",
    "    def comer(self):\n",
    "        print(\"solo tomo cafe\")\n",
    "\n",
    "class ace(one_piece):\n",
    "    clase = \"logia\"\n",
    "    \n",
    "    def hablar(self):\n",
    "        print(\"hola me llamo ace\")\n",
    "\n",
    "    def comer(self):\n",
    "        print(\"antes comia pero me hicieron dona\")\n",
    "\n",
    "the_nico_robin = nico_robin(\"humano\", 30)\n",
    "the_nico_robin.hablar()\n",
    "the_nico_robin.comer()\n",
    "print(the_nico_robin.especie)\n",
    "print(the_nico_robin.edad)   \n",
    "\n",
    "the_ace = ace(\"humano\", 20)\n",
    "the_ace.hablar()\n",
    "the_ace.comer()\n",
    "print(the_ace.especie)\n",
    "print(the_ace.edad) "
   ]
  },
  {
   "cell_type": "markdown",
   "metadata": {},
   "source": [
    "---"
   ]
  },
  {
   "cell_type": "markdown",
   "metadata": {},
   "source": [
    "# Diccionarios"
   ]
  },
  {
   "cell_type": "code",
   "execution_count": 38,
   "metadata": {},
   "outputs": [
    {
     "name": "stdout",
     "output_type": "stream",
     "text": [
      "{'nombre': 'Enmanuel', 'apellido': 'Ruffinelli', 'email': 'e@ruffinel.li', 'password': '1234'}\n",
      "{'nombre': 'Enmanuel', 'apellido': 'Ruffinelli', 'email': 'e@ruffinel.li', 'password': '1234', 'barrio': 'Los Laureles'}\n",
      "{'nombre': 'Enmanuel', 'apellido': 'Ruffinelli', 'email': 'e@ruffinel.li', 'password': '1234', 'barrio': 'Recoleta'}\n",
      "{'nombre': 'Enmanuel', 'apellido': 'Ruffinelli', 'email': 'e@ruffinel.li', 'password': '1234'}\n",
      "{'nombre': 'Enmanuel', 'email': 'e@ruffinel.li', 'password': '1234'}\n"
     ]
    }
   ],
   "source": [
    "mi_contacto = {\"nombre\": \"Enmanuel\", \"apellido\": \"Ruffinelli\", \"email\": \"e@ruffinel.li\", \"password\": \"1234\"}\n",
    "\n",
    "# Ejemplo de diccionario estilizado\n",
    "{\n",
    "    \"nombre\": \"Enmanuel\",\n",
    "    \"apellido\": \"Ruffinelli\",\n",
    "    \"email\": \"e@ruffinel.li\",\n",
    "    \"password\": \"1234\"\n",
    "}\n",
    "\n",
    "# Imprimir el diccionario\n",
    "print(mi_contacto)\n",
    "\n",
    "# Acceder datos del diccionario\n",
    "mi_contacto[\"apellido\"]\n",
    "\n",
    "# Desplegar datos del diccionario\n",
    "mi_contacto.keys()\n",
    "mi_contacto.values()\n",
    "\n",
    "# Añadir datos al diccionario\n",
    "mi_contacto[\"barrio\"] = \"Los Laureles\"\n",
    "print(mi_contacto)\n",
    "\n",
    "# Actualizar datos del diccionario\n",
    "mi_contacto[\"barrio\"] = \"Recoleta\"\n",
    "print(mi_contacto)\n",
    "\n",
    "# Eliminar datos del diccionario: último par\n",
    "mi_contacto.popitem()\n",
    "print(mi_contacto)\n",
    "\n",
    "# Eliminar datos del diccionario: por clave\n",
    "del mi_contacto[\"apellido\"]\n",
    "print(mi_contacto)\n",
    "\n",
    "carnet = {\"1JG\": \"Joselo\"}"
   ]
  },
  {
   "cell_type": "markdown",
   "metadata": {},
   "source": [
    "---"
   ]
  },
  {
   "cell_type": "markdown",
   "metadata": {},
   "source": [
    "## Challenge 🤺\n",
    "\n",
    "Escribir un programa que cree un diccionario vacío y lo vaya llenando con información sobre una persona (por ejemplo nombre, edad, sexo, teléfono, correo electrónico, etc.) que se le pida al usuario. Cada vez que se añada un nuevo dato debe imprimirse el contenido del diccionario."
   ]
  },
  {
   "cell_type": "code",
   "execution_count": 39,
   "metadata": {},
   "outputs": [
    {
     "name": "stdout",
     "output_type": "stream",
     "text": [
      "{'nombre': 'enma'}\n",
      "{'nombre': 'enma', 'apellido': 'ruffi'}\n",
      "Los datos se guardaron correctamente :)\n",
      "{'nombre': 'enma', 'apellido': 'ruffi'}\n"
     ]
    }
   ],
   "source": [
    "# Solución de Dani\n",
    "\n",
    "directorio = {}\n",
    "\n",
    "def agregar():\n",
    "    directorio[tipo_dato] = agregar_datos\n",
    "    print(directorio)\n",
    "\n",
    "while True:\n",
    "    tipo_dato = input(\"Que dato quisiera agregar?\")\n",
    "    agregar_datos = input(\"Ingrese su \" + tipo_dato + \":\")\n",
    "    \n",
    "    if input(\"Desea agregar un dato? :)\") == \"si\":\n",
    "        agregar()\n",
    "    else:\n",
    "        break\n",
    "\n",
    "print(\"Los datos se guardaron correctamente :)\")\n",
    "print(directorio)"
   ]
  },
  {
   "cell_type": "code",
   "execution_count": 40,
   "metadata": {},
   "outputs": [
    {
     "name": "stdout",
     "output_type": "stream",
     "text": [
      "{'nombre': 'enma'}\n",
      "{'nombre': 'enma', 'apellido': 'ruffi'}\n"
     ]
    }
   ],
   "source": [
    "# Solución de Leandro\n",
    "\n",
    "libretita = {}\n",
    "\n",
    "for i in range(2):\n",
    "    dato = input(\"Que datos quieres guardar?\")\n",
    "    valor = input(\"Cual es el valor\")\n",
    "    libretita[dato] = valor\n",
    "    print(libretita)"
   ]
  },
  {
   "cell_type": "code",
   "execution_count": 41,
   "metadata": {},
   "outputs": [
    {
     "name": "stdout",
     "output_type": "stream",
     "text": [
      "{'nombre': 'enma'}\n",
      "{'nombre': 'enma', 'apellido': 'ruffi'}\n"
     ]
    }
   ],
   "source": [
    "# Ejemplo de solución\n",
    "\n",
    "datos_de_la_persona = {}\n",
    "seguir_preguntando_datos = True\n",
    "\n",
    "while seguir_preguntando_datos:\n",
    "    clave = input('¿Qué dato quieres introducir? ')\n",
    "    valor = input(clave + ': ')\n",
    "    datos_de_la_persona[clave] = valor\n",
    "    print(datos_de_la_persona)\n",
    "    seguir_preguntando_datos = input('¿Quieres añadir más información (S/N)? ') == \"S\""
   ]
  },
  {
   "cell_type": "markdown",
   "metadata": {},
   "source": [
    "---"
   ]
  },
  {
   "cell_type": "markdown",
   "metadata": {},
   "source": [
    "## Challenge 🤺\n",
    "\n",
    "Crear una tarjeta personal. El usuario (mediante `input`) puede elegir:\n",
    "\n",
    "1. Crear datos nuevos\n",
    "2. Modificar datos\n",
    "3. Eliminar datos"
   ]
  },
  {
   "cell_type": "code",
   "execution_count": 43,
   "metadata": {},
   "outputs": [
    {
     "name": "stdout",
     "output_type": "stream",
     "text": [
      "INGRESE UN NUMERO DEL 1 AL 4 POR FAVOR. O EL NUMERO 5 PARA SALIR!!!\n",
      "{'Profesion': 'existir'}\n"
     ]
    }
   ],
   "source": [
    "# Solución de Aharon\n",
    "\n",
    "mi_tarjeta_personal = {}\n",
    "\n",
    "while True:\n",
    "    dato = input(\"Marque el numero del dato que desea ingresar: (1) Nombre, (2) Apellido, (3) Profesion, (4) Direccion, (5) Salir.\")\n",
    "    \n",
    "    if dato == \"1\":\n",
    "        nombre = input(\"Cual es tu nombre?\")\n",
    "        mi_tarjeta_personal[\"Nombre\"] = nombre\n",
    "    if dato == \"2\":\n",
    "        apellido = input(\"Cual es tu apellido?\")\n",
    "        mi_tarjeta_personal[\"Apellido\"] = apellido\n",
    "    if dato == \"3\":\n",
    "        profesion = input(\"Cual es tu profesion?\")\n",
    "        mi_tarjeta_personal[\"Profesion\"] = profesion\n",
    "    if dato == \"4\":\n",
    "        direccion = input(\"Cual es tu direccion?\")\n",
    "        mi_tarjeta_personal[\"Direccion\"] = direccion\n",
    "    if dato == \"5\":\n",
    "        print(mi_tarjeta_personal)\n",
    "        break\n",
    "    else:\n",
    "        print(\"INGRESE UN NUMERO DEL 1 AL 4 POR FAVOR. O EL NUMERO 5 PARA SALIR!!!\")"
   ]
  },
  {
   "cell_type": "code",
   "execution_count": 45,
   "metadata": {},
   "outputs": [
    {
     "name": "stdout",
     "output_type": "stream",
     "text": [
      "Creando Tarjeta Personal: \n",
      "###############################################\n",
      "{'asd': 'qwe'}\n"
     ]
    }
   ],
   "source": [
    "# Solución de Joselo\n",
    "\n",
    "dic = {}\n",
    "flag = \"\"\n",
    "print (\"Creando Tarjeta Personal: \")\n",
    "while flag != \"salir\":\n",
    "    flag = input (\"Que quieres hacer? Crear, Modificar, Eliminar o Salir para salir\").lower()\n",
    "    if flag == \"crear\":\n",
    "        key = input (\"Ingrese el tipo de dato: \")\n",
    "        dic[key] = input(f\"Ingrese {key}: \")\n",
    "        print (\"###############################################\")\n",
    "        print (dic)\n",
    "    elif flag == \"modificar\":\n",
    "        keys = []\n",
    "        for i in dic.keys():\n",
    "            keys.append (i)\n",
    "        modificar_key = input (f\"Que dato quiere modificar? {keys}\")\n",
    "        dic[modificar_key] = input(\"Ingrese el nuevo dato: \")\n",
    "        print (\"###############################################\")\n",
    "        print (dic)\n",
    "    elif flag == \"eliminar\":\n",
    "        keys = []\n",
    "        for i in dic.keys():\n",
    "            keys.append (i)\n",
    "        eliminar_key = input (f\"Que dato quiere eliminar? {keys}\")\n",
    "        dic.pop (eliminar_key)\n",
    "        print (\"###############################################\")\n",
    "        print (dic)"
   ]
  }
 ],
 "metadata": {
  "interpreter": {
   "hash": "31f2aee4e71d21fbe5cf8b01ff0e069b9275f58929596ceb00d14d90e3e16cd6"
  },
  "kernelspec": {
   "display_name": "Python 3.8.9 64-bit",
   "language": "python",
   "name": "python3"
  },
  "language_info": {
   "codemirror_mode": {
    "name": "ipython",
    "version": 3
   },
   "file_extension": ".py",
   "mimetype": "text/x-python",
   "name": "python",
   "nbconvert_exporter": "python",
   "pygments_lexer": "ipython3",
   "version": "3.8.9"
  },
  "orig_nbformat": 4
 },
 "nbformat": 4,
 "nbformat_minor": 2
}
